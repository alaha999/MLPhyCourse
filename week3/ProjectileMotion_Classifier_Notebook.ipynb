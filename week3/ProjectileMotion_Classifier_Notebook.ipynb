{
 "cells": [
  {
   "cell_type": "markdown",
   "metadata": {},
   "source": [
    "# Classifier Network\n",
    " - Follow the Week 3 lecture slides"
   ]
  },
  {
   "cell_type": "code",
   "execution_count": 1,
   "metadata": {},
   "outputs": [],
   "source": [
    "#import libraries\n",
    "\n",
    "import numpy as np\n",
    "import pandas as pd\n",
    "import tensorflow as tf\n",
    "import matplotlib.pyplot as plt\n",
    "from sklearn.model_selection import train_test_split\n",
    "from sklearn.metrics import roc_curve,auc\n",
    "from tensorflow.keras import Sequential\n",
    "from tensorflow.keras.layers import Dense\n",
    "\n",
    "import os\n",
    "import warnings\n",
    "warnings.filterwarnings('ignore')"
   ]
  },
  {
   "cell_type": "code",
   "execution_count": 2,
   "metadata": {},
   "outputs": [],
   "source": [
    "# Lets set up to put all output plots in one output PDF\n",
    "\n",
    "outputname = 'projectile_classification_week3.pdf'\n",
    "\n",
    "from matplotlib.backends.backend_pdf import PdfPages\n",
    "pp = PdfPages(outputname)\n"
   ]
  },
  {
   "cell_type": "markdown",
   "metadata": {},
   "source": [
    "## Input data\n",
    "\n",
    "\n",
    "Read the Input file in a Pandas DataFrame"
   ]
  },
  {
   "cell_type": "code",
   "execution_count": 3,
   "metadata": {},
   "outputs": [],
   "source": [
    "# First we prepare the dataframe in which we get the data\n",
    "col_names = ['tof','height','distance','velocity','angleDegrees']\n",
    "cols = [0,1,2,3]\n",
    "# Now here I purposely dropped the last column (read in only first 4)\n",
    "\n",
    "\n",
    "projdf = pd.read_csv('input/projectile_input4_100k.txt',sep=' ',index_col=None,usecols=cols,names=col_names)"
   ]
  },
  {
   "cell_type": "code",
   "execution_count": 4,
   "metadata": {},
   "outputs": [
    {
     "data": {
      "text/html": [
       "<div>\n",
       "<style scoped>\n",
       "    .dataframe tbody tr th:only-of-type {\n",
       "        vertical-align: middle;\n",
       "    }\n",
       "\n",
       "    .dataframe tbody tr th {\n",
       "        vertical-align: top;\n",
       "    }\n",
       "\n",
       "    .dataframe thead th {\n",
       "        text-align: right;\n",
       "    }\n",
       "</style>\n",
       "<table border=\"1\" class=\"dataframe\">\n",
       "  <thead>\n",
       "    <tr style=\"text-align: right;\">\n",
       "      <th></th>\n",
       "      <th>tof</th>\n",
       "      <th>height</th>\n",
       "      <th>distance</th>\n",
       "      <th>velocity</th>\n",
       "    </tr>\n",
       "  </thead>\n",
       "  <tbody>\n",
       "    <tr>\n",
       "      <th>0</th>\n",
       "      <td>2.355650</td>\n",
       "      <td>21.04420</td>\n",
       "      <td>107.6150</td>\n",
       "      <td>28.2299</td>\n",
       "    </tr>\n",
       "    <tr>\n",
       "      <th>1</th>\n",
       "      <td>3.882820</td>\n",
       "      <td>27.22980</td>\n",
       "      <td>24.9687</td>\n",
       "      <td>19.1289</td>\n",
       "    </tr>\n",
       "    <tr>\n",
       "      <th>2</th>\n",
       "      <td>1.926440</td>\n",
       "      <td>14.07410</td>\n",
       "      <td>31.7454</td>\n",
       "      <td>17.1848</td>\n",
       "    </tr>\n",
       "    <tr>\n",
       "      <th>3</th>\n",
       "      <td>0.564022</td>\n",
       "      <td>1.20643</td>\n",
       "      <td>12.0678</td>\n",
       "      <td>10.8245</td>\n",
       "    </tr>\n",
       "    <tr>\n",
       "      <th>4</th>\n",
       "      <td>4.016770</td>\n",
       "      <td>61.18770</td>\n",
       "      <td>192.2680</td>\n",
       "      <td>38.9703</td>\n",
       "    </tr>\n",
       "  </tbody>\n",
       "</table>\n",
       "</div>"
      ],
      "text/plain": [
       "        tof    height  distance  velocity\n",
       "0  2.355650  21.04420  107.6150   28.2299\n",
       "1  3.882820  27.22980   24.9687   19.1289\n",
       "2  1.926440  14.07410   31.7454   17.1848\n",
       "3  0.564022   1.20643   12.0678   10.8245\n",
       "4  4.016770  61.18770  192.2680   38.9703"
      ]
     },
     "execution_count": 4,
     "metadata": {},
     "output_type": "execute_result"
    }
   ],
   "source": [
    "projdf.head(5)"
   ]
  },
  {
   "cell_type": "markdown",
   "metadata": {},
   "source": [
    "### Now for the classification task let us create labels for high and low velocity\n",
    "- high velocity if velocity > 25.0 & < 35.0 : <mark>Label = 1</mark>\n",
    "- low velocity  otherwise : <mark>Label = 0</mark>"
   ]
  },
  {
   "cell_type": "code",
   "execution_count": 5,
   "metadata": {},
   "outputs": [],
   "source": [
    "projdf['highvel'] = projdf.apply(lambda row: 1.0 if row.velocity > 25.0 and row.velocity < 35.0 else 0.0, axis=1)"
   ]
  },
  {
   "cell_type": "code",
   "execution_count": 6,
   "metadata": {},
   "outputs": [
    {
     "data": {
      "text/html": [
       "<div>\n",
       "<style scoped>\n",
       "    .dataframe tbody tr th:only-of-type {\n",
       "        vertical-align: middle;\n",
       "    }\n",
       "\n",
       "    .dataframe tbody tr th {\n",
       "        vertical-align: top;\n",
       "    }\n",
       "\n",
       "    .dataframe thead th {\n",
       "        text-align: right;\n",
       "    }\n",
       "</style>\n",
       "<table border=\"1\" class=\"dataframe\">\n",
       "  <thead>\n",
       "    <tr style=\"text-align: right;\">\n",
       "      <th></th>\n",
       "      <th>tof</th>\n",
       "      <th>height</th>\n",
       "      <th>distance</th>\n",
       "      <th>velocity</th>\n",
       "      <th>highvel</th>\n",
       "    </tr>\n",
       "  </thead>\n",
       "  <tbody>\n",
       "    <tr>\n",
       "      <th>0</th>\n",
       "      <td>2.355650</td>\n",
       "      <td>21.04420</td>\n",
       "      <td>107.6150</td>\n",
       "      <td>28.2299</td>\n",
       "      <td>1.0</td>\n",
       "    </tr>\n",
       "    <tr>\n",
       "      <th>1</th>\n",
       "      <td>3.882820</td>\n",
       "      <td>27.22980</td>\n",
       "      <td>24.9687</td>\n",
       "      <td>19.1289</td>\n",
       "      <td>0.0</td>\n",
       "    </tr>\n",
       "    <tr>\n",
       "      <th>2</th>\n",
       "      <td>1.926440</td>\n",
       "      <td>14.07410</td>\n",
       "      <td>31.7454</td>\n",
       "      <td>17.1848</td>\n",
       "      <td>0.0</td>\n",
       "    </tr>\n",
       "    <tr>\n",
       "      <th>3</th>\n",
       "      <td>0.564022</td>\n",
       "      <td>1.20643</td>\n",
       "      <td>12.0678</td>\n",
       "      <td>10.8245</td>\n",
       "      <td>0.0</td>\n",
       "    </tr>\n",
       "    <tr>\n",
       "      <th>4</th>\n",
       "      <td>4.016770</td>\n",
       "      <td>61.18770</td>\n",
       "      <td>192.2680</td>\n",
       "      <td>38.9703</td>\n",
       "      <td>0.0</td>\n",
       "    </tr>\n",
       "  </tbody>\n",
       "</table>\n",
       "</div>"
      ],
      "text/plain": [
       "        tof    height  distance  velocity  highvel\n",
       "0  2.355650  21.04420  107.6150   28.2299      1.0\n",
       "1  3.882820  27.22980   24.9687   19.1289      0.0\n",
       "2  1.926440  14.07410   31.7454   17.1848      0.0\n",
       "3  0.564022   1.20643   12.0678   10.8245      0.0\n",
       "4  4.016770  61.18770  192.2680   38.9703      0.0"
      ]
     },
     "execution_count": 6,
     "metadata": {},
     "output_type": "execute_result"
    }
   ],
   "source": [
    "projdf.head()\n",
    "\n",
    "# We see that a new column \"highvel\" is added into the dataframe\n",
    "# highvel =1.0 if 25.0 < velocity < 35.0\n",
    "#         =0.0 otherwise "
   ]
  },
  {
   "cell_type": "markdown",
   "metadata": {},
   "source": [
    "## Training Goal\n",
    "\n",
    "Now we are going to try make the network learn the following,\n",
    "\n",
    "- if the velocity is between 25 and 35 (i.e. the target y value(or highvel) is 1.0), then NN should predict 1.0\n",
    "- else (i.e. the target y value(or highvel) is 0.0), the NN should predict 0.0\n"
   ]
  },
  {
   "cell_type": "code",
   "execution_count": 7,
   "metadata": {},
   "outputs": [
    {
     "name": "stdout",
     "output_type": "stream",
     "text": [
      "Shapes of data, X, y are (100000, 5), (100000, 3) , (100000, 1)\n",
      "The number of input variables is 3\n"
     ]
    }
   ],
   "source": [
    "# Split the label column as y, and the input variables as X\n",
    "X = projdf[['tof','height','distance']].values\n",
    "y = projdf[['highvel']].values\n",
    "print(f'Shapes of data, X, y are {projdf.shape}, {X.shape} , {y.shape}')\n",
    "\n",
    "n_features = X.shape[1]\n",
    "print(f'The number of input variables is {n_features}')"
   ]
  },
  {
   "cell_type": "code",
   "execution_count": null,
   "metadata": {},
   "outputs": [],
   "source": []
  },
  {
   "cell_type": "markdown",
   "metadata": {},
   "source": [
    "### Splitting the data into train and test set\n",
    "\n",
    "- We will now split the data into two parts, a \"training\" and a \"testing\" part.\n",
    "- The idea is to use the training set to train the network, and as it trains,use the testing part to judge how the training is going."
   ]
  },
  {
   "cell_type": "code",
   "execution_count": 8,
   "metadata": {},
   "outputs": [
    {
     "name": "stdout",
     "output_type": "stream",
     "text": [
      "(50000, 3) (50000, 3) (50000, 1) (50000, 1)\n"
     ]
    }
   ],
   "source": [
    "# We shall split the dataset into training and testing in equal measure (50% each)\n",
    "# but we can do any other combination as well.\n",
    "X_train, X_test, y_train, y_test = train_test_split(X,y,test_size=0.5)\n",
    "print(X_train.shape, X_test.shape, y_train.shape, y_test.shape)"
   ]
  },
  {
   "cell_type": "code",
   "execution_count": null,
   "metadata": {},
   "outputs": [],
   "source": []
  },
  {
   "cell_type": "markdown",
   "metadata": {},
   "source": [
    "## Build the Neural Network \n",
    " - Now we declare a neural network with **2 hidden layers**\n",
    " - first hidden layer has **8 neurons**, and takes n_features number of inputs\n",
    " - second hidden layer has **4 neurons**\n",
    " - output layer has **1 neuron**  BUT with a <mark>sigmoid</mark> activation function\n",
    " \n",
    " ```we choose sigmoid here, since we would like the output to be interpreted as a 'probability'\n",
    "  Note that our desired output is 0 or 1 ... in practice the output will be\n",
    " some value between 0 and 1.``` "
   ]
  },
  {
   "cell_type": "code",
   "execution_count": 9,
   "metadata": {},
   "outputs": [],
   "source": [
    "model = Sequential()\n",
    "model.add(Dense(8, activation='relu', kernel_initializer='he_normal', input_dim=n_features))\n",
    "model.add(Dense(4, activation='relu', kernel_initializer='he_normal'))\n",
    "model.add(Dense(1, activation='sigmoid'))"
   ]
  },
  {
   "cell_type": "markdown",
   "metadata": {},
   "source": [
    "### Compile the model"
   ]
  },
  {
   "cell_type": "code",
   "execution_count": 10,
   "metadata": {},
   "outputs": [],
   "source": [
    "#compile the model\n",
    "model.compile(optimizer='adam', loss='binary_crossentropy', metrics=['accuracy'])\n",
    "\n",
    "## We chose a different loss function here, as well as added 'accuracy' to the things\n",
    "# the history object should retain during training.\n"
   ]
  },
  {
   "cell_type": "markdown",
   "metadata": {},
   "source": [
    "### Train the model"
   ]
  },
  {
   "cell_type": "code",
   "execution_count": 11,
   "metadata": {
    "scrolled": false
   },
   "outputs": [
    {
     "name": "stdout",
     "output_type": "stream",
     "text": [
      "Epoch 1/200\n",
      "500/500 [==============================] - 1s 3ms/step - loss: 1.0739 - accuracy: 0.5760 - val_loss: 0.6692 - val_accuracy: 0.6772\n",
      "Epoch 2/200\n",
      "500/500 [==============================] - 2s 3ms/step - loss: 0.6395 - accuracy: 0.6645 - val_loss: 0.6200 - val_accuracy: 0.6392\n",
      "Epoch 3/200\n",
      "500/500 [==============================] - 1s 2ms/step - loss: 0.6086 - accuracy: 0.6168 - val_loss: 0.6009 - val_accuracy: 0.5905\n",
      "Epoch 4/200\n",
      "500/500 [==============================] - 1s 2ms/step - loss: 0.5970 - accuracy: 0.6023 - val_loss: 0.5950 - val_accuracy: 0.5948\n",
      "Epoch 5/200\n",
      "500/500 [==============================] - 1s 2ms/step - loss: 0.5932 - accuracy: 0.6011 - val_loss: 0.5929 - val_accuracy: 0.6127\n",
      "Epoch 6/200\n",
      "500/500 [==============================] - 1s 1ms/step - loss: 0.5910 - accuracy: 0.6002 - val_loss: 0.5913 - val_accuracy: 0.5759\n",
      "Epoch 7/200\n",
      "500/500 [==============================] - 1s 2ms/step - loss: 0.5879 - accuracy: 0.6030 - val_loss: 0.5869 - val_accuracy: 0.6044\n",
      "Epoch 8/200\n",
      "500/500 [==============================] - 1s 1ms/step - loss: 0.5815 - accuracy: 0.6017 - val_loss: 0.5777 - val_accuracy: 0.6062\n",
      "Epoch 9/200\n",
      "500/500 [==============================] - 1s 2ms/step - loss: 0.5617 - accuracy: 0.6165 - val_loss: 0.5461 - val_accuracy: 0.6295\n",
      "Epoch 10/200\n",
      "500/500 [==============================] - 1s 1ms/step - loss: 0.5322 - accuracy: 0.6318 - val_loss: 0.5236 - val_accuracy: 0.6242\n",
      "Epoch 11/200\n",
      "500/500 [==============================] - 1s 1ms/step - loss: 0.5127 - accuracy: 0.6381 - val_loss: 0.5058 - val_accuracy: 0.6318\n",
      "Epoch 12/200\n",
      "500/500 [==============================] - 1s 1ms/step - loss: 0.4969 - accuracy: 0.6666 - val_loss: 0.4916 - val_accuracy: 0.7124\n",
      "Epoch 13/200\n",
      "500/500 [==============================] - 1s 2ms/step - loss: 0.4852 - accuracy: 0.7284 - val_loss: 0.4822 - val_accuracy: 0.7267\n",
      "Epoch 14/200\n",
      "500/500 [==============================] - 1s 1ms/step - loss: 0.4755 - accuracy: 0.7751 - val_loss: 0.4726 - val_accuracy: 0.8006\n",
      "Epoch 15/200\n",
      "500/500 [==============================] - 1s 1ms/step - loss: 0.4657 - accuracy: 0.7937 - val_loss: 0.4623 - val_accuracy: 0.7833\n",
      "Epoch 16/200\n",
      "500/500 [==============================] - 1s 1ms/step - loss: 0.4546 - accuracy: 0.8081 - val_loss: 0.4503 - val_accuracy: 0.8071\n",
      "Epoch 17/200\n",
      "500/500 [==============================] - 1s 1ms/step - loss: 0.4422 - accuracy: 0.8147 - val_loss: 0.4373 - val_accuracy: 0.8246\n",
      "Epoch 18/200\n",
      "500/500 [==============================] - 1s 1ms/step - loss: 0.4301 - accuracy: 0.8324 - val_loss: 0.4298 - val_accuracy: 0.8226\n",
      "Epoch 19/200\n",
      "500/500 [==============================] - 1s 2ms/step - loss: 0.4198 - accuracy: 0.8421 - val_loss: 0.4166 - val_accuracy: 0.8417\n",
      "Epoch 20/200\n",
      "500/500 [==============================] - 1s 1ms/step - loss: 0.4113 - accuracy: 0.8423 - val_loss: 0.4102 - val_accuracy: 0.8439\n",
      "Epoch 21/200\n",
      "500/500 [==============================] - 1s 1ms/step - loss: 0.4034 - accuracy: 0.8462 - val_loss: 0.4016 - val_accuracy: 0.8486\n",
      "Epoch 22/200\n",
      "500/500 [==============================] - 1s 1ms/step - loss: 0.3966 - accuracy: 0.8473 - val_loss: 0.3974 - val_accuracy: 0.8516\n",
      "Epoch 23/200\n",
      "500/500 [==============================] - 1s 1ms/step - loss: 0.3916 - accuracy: 0.8480 - val_loss: 0.3918 - val_accuracy: 0.8511\n",
      "Epoch 24/200\n",
      "500/500 [==============================] - 1s 1ms/step - loss: 0.3874 - accuracy: 0.8493 - val_loss: 0.3910 - val_accuracy: 0.8516\n",
      "Epoch 25/200\n",
      "500/500 [==============================] - 1s 1ms/step - loss: 0.3841 - accuracy: 0.8483 - val_loss: 0.3887 - val_accuracy: 0.8489\n",
      "Epoch 26/200\n",
      "500/500 [==============================] - 1s 2ms/step - loss: 0.3800 - accuracy: 0.8493 - val_loss: 0.3853 - val_accuracy: 0.8389\n",
      "Epoch 27/200\n",
      "500/500 [==============================] - 1s 1ms/step - loss: 0.3774 - accuracy: 0.8506 - val_loss: 0.3788 - val_accuracy: 0.8437\n",
      "Epoch 28/200\n",
      "500/500 [==============================] - 1s 1ms/step - loss: 0.3748 - accuracy: 0.8501 - val_loss: 0.3798 - val_accuracy: 0.8520\n",
      "Epoch 29/200\n",
      "500/500 [==============================] - 1s 1ms/step - loss: 0.3730 - accuracy: 0.8503 - val_loss: 0.3740 - val_accuracy: 0.8465\n",
      "Epoch 30/200\n",
      "500/500 [==============================] - 1s 1ms/step - loss: 0.3699 - accuracy: 0.8510 - val_loss: 0.3720 - val_accuracy: 0.8541\n",
      "Epoch 31/200\n",
      "500/500 [==============================] - 1s 1ms/step - loss: 0.3693 - accuracy: 0.8505 - val_loss: 0.3707 - val_accuracy: 0.8516\n",
      "Epoch 32/200\n",
      "500/500 [==============================] - 1s 1ms/step - loss: 0.3671 - accuracy: 0.8517 - val_loss: 0.3675 - val_accuracy: 0.8512\n",
      "Epoch 33/200\n",
      "500/500 [==============================] - 1s 1ms/step - loss: 0.3655 - accuracy: 0.8517 - val_loss: 0.3672 - val_accuracy: 0.8493\n",
      "Epoch 34/200\n",
      "500/500 [==============================] - 1s 1ms/step - loss: 0.3642 - accuracy: 0.8520 - val_loss: 0.3678 - val_accuracy: 0.8522\n",
      "Epoch 35/200\n",
      "500/500 [==============================] - 1s 1ms/step - loss: 0.3637 - accuracy: 0.8523 - val_loss: 0.3656 - val_accuracy: 0.8494\n",
      "Epoch 36/200\n",
      "500/500 [==============================] - 1s 1ms/step - loss: 0.3619 - accuracy: 0.8520 - val_loss: 0.3640 - val_accuracy: 0.8496\n",
      "Epoch 37/200\n",
      "500/500 [==============================] - 1s 1ms/step - loss: 0.3615 - accuracy: 0.8522 - val_loss: 0.3670 - val_accuracy: 0.8490\n",
      "Epoch 38/200\n",
      "500/500 [==============================] - 1s 1ms/step - loss: 0.3605 - accuracy: 0.8515 - val_loss: 0.3635 - val_accuracy: 0.8481\n",
      "Epoch 39/200\n",
      "500/500 [==============================] - 1s 1ms/step - loss: 0.3591 - accuracy: 0.8530 - val_loss: 0.3623 - val_accuracy: 0.8466\n",
      "Epoch 40/200\n",
      "500/500 [==============================] - 1s 1ms/step - loss: 0.3590 - accuracy: 0.8532 - val_loss: 0.3603 - val_accuracy: 0.8567\n",
      "Epoch 41/200\n",
      "500/500 [==============================] - 1s 1ms/step - loss: 0.3583 - accuracy: 0.8524 - val_loss: 0.3614 - val_accuracy: 0.8499\n",
      "Epoch 42/200\n",
      "500/500 [==============================] - 1s 1ms/step - loss: 0.3574 - accuracy: 0.8530 - val_loss: 0.3645 - val_accuracy: 0.8427\n",
      "Epoch 43/200\n",
      "500/500 [==============================] - 1s 1ms/step - loss: 0.3569 - accuracy: 0.8536 - val_loss: 0.3582 - val_accuracy: 0.8531\n",
      "Epoch 44/200\n",
      "500/500 [==============================] - 1s 1ms/step - loss: 0.3565 - accuracy: 0.8531 - val_loss: 0.3630 - val_accuracy: 0.8563\n",
      "Epoch 45/200\n",
      "500/500 [==============================] - 1s 1ms/step - loss: 0.3565 - accuracy: 0.8530 - val_loss: 0.3607 - val_accuracy: 0.8441\n",
      "Epoch 46/200\n",
      "500/500 [==============================] - 1s 1ms/step - loss: 0.3552 - accuracy: 0.8539 - val_loss: 0.3599 - val_accuracy: 0.8464\n",
      "Epoch 47/200\n",
      "500/500 [==============================] - 1s 1ms/step - loss: 0.3553 - accuracy: 0.8527 - val_loss: 0.3579 - val_accuracy: 0.8494\n",
      "Epoch 48/200\n",
      "500/500 [==============================] - 1s 1ms/step - loss: 0.3557 - accuracy: 0.8521 - val_loss: 0.3564 - val_accuracy: 0.8525\n",
      "Epoch 49/200\n",
      "500/500 [==============================] - 1s 1ms/step - loss: 0.3548 - accuracy: 0.8533 - val_loss: 0.3577 - val_accuracy: 0.8481\n",
      "Epoch 50/200\n",
      "500/500 [==============================] - 1s 1ms/step - loss: 0.3536 - accuracy: 0.8539 - val_loss: 0.3610 - val_accuracy: 0.8454\n",
      "Epoch 51/200\n",
      "500/500 [==============================] - 1s 1ms/step - loss: 0.3539 - accuracy: 0.8535 - val_loss: 0.3569 - val_accuracy: 0.8544\n",
      "Epoch 52/200\n",
      "500/500 [==============================] - 1s 1ms/step - loss: 0.3545 - accuracy: 0.8531 - val_loss: 0.3545 - val_accuracy: 0.8540\n",
      "Epoch 53/200\n",
      "500/500 [==============================] - 1s 1ms/step - loss: 0.3535 - accuracy: 0.8528 - val_loss: 0.3556 - val_accuracy: 0.8531\n",
      "Epoch 54/200\n",
      "500/500 [==============================] - 1s 1ms/step - loss: 0.3532 - accuracy: 0.8541 - val_loss: 0.3590 - val_accuracy: 0.8486\n",
      "Epoch 55/200\n",
      "500/500 [==============================] - 1s 1ms/step - loss: 0.3528 - accuracy: 0.8541 - val_loss: 0.3572 - val_accuracy: 0.8512\n",
      "Epoch 56/200\n",
      "500/500 [==============================] - 1s 1ms/step - loss: 0.3523 - accuracy: 0.8532 - val_loss: 0.3542 - val_accuracy: 0.8565\n",
      "Epoch 57/200\n",
      "500/500 [==============================] - 1s 1ms/step - loss: 0.3529 - accuracy: 0.8542 - val_loss: 0.3550 - val_accuracy: 0.8510\n"
     ]
    },
    {
     "name": "stdout",
     "output_type": "stream",
     "text": [
      "Epoch 58/200\n",
      "500/500 [==============================] - 1s 2ms/step - loss: 0.3530 - accuracy: 0.8540 - val_loss: 0.3545 - val_accuracy: 0.8537\n",
      "Epoch 59/200\n",
      "500/500 [==============================] - 1s 1ms/step - loss: 0.3524 - accuracy: 0.8532 - val_loss: 0.3544 - val_accuracy: 0.8550\n",
      "Epoch 60/200\n",
      "500/500 [==============================] - 1s 1ms/step - loss: 0.3523 - accuracy: 0.8537 - val_loss: 0.3537 - val_accuracy: 0.8538\n",
      "Epoch 61/200\n",
      "500/500 [==============================] - 1s 1ms/step - loss: 0.3521 - accuracy: 0.8547 - val_loss: 0.3549 - val_accuracy: 0.8500\n",
      "Epoch 62/200\n",
      "500/500 [==============================] - 1s 1ms/step - loss: 0.3519 - accuracy: 0.8541 - val_loss: 0.3535 - val_accuracy: 0.8555\n",
      "Epoch 63/200\n",
      "500/500 [==============================] - 1s 1ms/step - loss: 0.3515 - accuracy: 0.8557 - val_loss: 0.3562 - val_accuracy: 0.8494\n",
      "Epoch 64/200\n",
      "500/500 [==============================] - 1s 2ms/step - loss: 0.3505 - accuracy: 0.8554 - val_loss: 0.3545 - val_accuracy: 0.8478\n",
      "Epoch 65/200\n",
      "500/500 [==============================] - 1s 1ms/step - loss: 0.3516 - accuracy: 0.8542 - val_loss: 0.3531 - val_accuracy: 0.8588\n",
      "Epoch 66/200\n",
      "500/500 [==============================] - 1s 1ms/step - loss: 0.3504 - accuracy: 0.8555 - val_loss: 0.3557 - val_accuracy: 0.8511\n",
      "Epoch 67/200\n",
      "500/500 [==============================] - 1s 1ms/step - loss: 0.3504 - accuracy: 0.8543 - val_loss: 0.3520 - val_accuracy: 0.8527\n",
      "Epoch 68/200\n",
      "500/500 [==============================] - 1s 1ms/step - loss: 0.3508 - accuracy: 0.8545 - val_loss: 0.3518 - val_accuracy: 0.8533\n",
      "Epoch 69/200\n",
      "500/500 [==============================] - 1s 1ms/step - loss: 0.3509 - accuracy: 0.8544 - val_loss: 0.3593 - val_accuracy: 0.8500\n",
      "Epoch 70/200\n",
      "500/500 [==============================] - 1s 1ms/step - loss: 0.3506 - accuracy: 0.8548 - val_loss: 0.3527 - val_accuracy: 0.8533\n",
      "Epoch 71/200\n",
      "500/500 [==============================] - 1s 1ms/step - loss: 0.3511 - accuracy: 0.8550 - val_loss: 0.3533 - val_accuracy: 0.8506\n",
      "Epoch 72/200\n",
      "500/500 [==============================] - 1s 1ms/step - loss: 0.3501 - accuracy: 0.8545 - val_loss: 0.3524 - val_accuracy: 0.8556\n",
      "Epoch 73/200\n",
      "500/500 [==============================] - 1s 1ms/step - loss: 0.3499 - accuracy: 0.8550 - val_loss: 0.3510 - val_accuracy: 0.8530\n",
      "Epoch 74/200\n",
      "500/500 [==============================] - 1s 1ms/step - loss: 0.3495 - accuracy: 0.8557 - val_loss: 0.3513 - val_accuracy: 0.8563\n",
      "Epoch 75/200\n",
      "500/500 [==============================] - 1s 1ms/step - loss: 0.3502 - accuracy: 0.8548 - val_loss: 0.3538 - val_accuracy: 0.8489\n",
      "Epoch 76/200\n",
      "500/500 [==============================] - 1s 1ms/step - loss: 0.3498 - accuracy: 0.8546 - val_loss: 0.3562 - val_accuracy: 0.8562\n",
      "Epoch 77/200\n",
      "500/500 [==============================] - 1s 1ms/step - loss: 0.3499 - accuracy: 0.8544 - val_loss: 0.3556 - val_accuracy: 0.8559\n",
      "Epoch 78/200\n",
      "500/500 [==============================] - 1s 1ms/step - loss: 0.3495 - accuracy: 0.8555 - val_loss: 0.3517 - val_accuracy: 0.8508\n",
      "Epoch 79/200\n",
      "500/500 [==============================] - 1s 1ms/step - loss: 0.3499 - accuracy: 0.8551 - val_loss: 0.3594 - val_accuracy: 0.8408\n",
      "Epoch 80/200\n",
      "500/500 [==============================] - 1s 1ms/step - loss: 0.3489 - accuracy: 0.8560 - val_loss: 0.3529 - val_accuracy: 0.8596\n",
      "Epoch 81/200\n",
      "500/500 [==============================] - 1s 1ms/step - loss: 0.3502 - accuracy: 0.8547 - val_loss: 0.3511 - val_accuracy: 0.8559\n",
      "Epoch 82/200\n",
      "500/500 [==============================] - 1s 1ms/step - loss: 0.3496 - accuracy: 0.8558 - val_loss: 0.3523 - val_accuracy: 0.8488\n",
      "Epoch 83/200\n",
      "500/500 [==============================] - 1s 1ms/step - loss: 0.3489 - accuracy: 0.8556 - val_loss: 0.3507 - val_accuracy: 0.8543\n",
      "Epoch 84/200\n",
      "500/500 [==============================] - 1s 1ms/step - loss: 0.3498 - accuracy: 0.8540 - val_loss: 0.3515 - val_accuracy: 0.8574\n",
      "Epoch 85/200\n",
      "500/500 [==============================] - 1s 1ms/step - loss: 0.3501 - accuracy: 0.8553 - val_loss: 0.3507 - val_accuracy: 0.8542\n",
      "Epoch 86/200\n",
      "500/500 [==============================] - 1s 1ms/step - loss: 0.3491 - accuracy: 0.8551 - val_loss: 0.3499 - val_accuracy: 0.8560\n",
      "Epoch 87/200\n",
      "500/500 [==============================] - 1s 1ms/step - loss: 0.3488 - accuracy: 0.8559 - val_loss: 0.3514 - val_accuracy: 0.8561\n",
      "Epoch 88/200\n",
      "500/500 [==============================] - 1s 2ms/step - loss: 0.3499 - accuracy: 0.8554 - val_loss: 0.3502 - val_accuracy: 0.8576\n",
      "Epoch 89/200\n",
      "500/500 [==============================] - 1s 1ms/step - loss: 0.3488 - accuracy: 0.8561 - val_loss: 0.3503 - val_accuracy: 0.8541\n",
      "Epoch 90/200\n",
      "500/500 [==============================] - 1s 1ms/step - loss: 0.3497 - accuracy: 0.8553 - val_loss: 0.3500 - val_accuracy: 0.8531\n",
      "Epoch 91/200\n",
      "500/500 [==============================] - 1s 1ms/step - loss: 0.3481 - accuracy: 0.8554 - val_loss: 0.3525 - val_accuracy: 0.8567\n",
      "Epoch 92/200\n",
      "500/500 [==============================] - 1s 1ms/step - loss: 0.3493 - accuracy: 0.8556 - val_loss: 0.3515 - val_accuracy: 0.8558\n",
      "Epoch 93/200\n",
      "500/500 [==============================] - 1s 2ms/step - loss: 0.3482 - accuracy: 0.8558 - val_loss: 0.3511 - val_accuracy: 0.8526\n",
      "Epoch 94/200\n",
      "500/500 [==============================] - 1s 2ms/step - loss: 0.3488 - accuracy: 0.8558 - val_loss: 0.3504 - val_accuracy: 0.8554\n",
      "Epoch 95/200\n",
      "500/500 [==============================] - 1s 1ms/step - loss: 0.3488 - accuracy: 0.8562 - val_loss: 0.3512 - val_accuracy: 0.8574\n",
      "Epoch 96/200\n",
      "500/500 [==============================] - 1s 1ms/step - loss: 0.3488 - accuracy: 0.8569 - val_loss: 0.3512 - val_accuracy: 0.8557\n",
      "Epoch 97/200\n",
      "500/500 [==============================] - 1s 1ms/step - loss: 0.3491 - accuracy: 0.8554 - val_loss: 0.3501 - val_accuracy: 0.8588\n",
      "Epoch 98/200\n",
      "500/500 [==============================] - 1s 1ms/step - loss: 0.3487 - accuracy: 0.8555 - val_loss: 0.3523 - val_accuracy: 0.8484\n",
      "Epoch 99/200\n",
      "500/500 [==============================] - 1s 1ms/step - loss: 0.3485 - accuracy: 0.8557 - val_loss: 0.3502 - val_accuracy: 0.8541\n",
      "Epoch 100/200\n",
      "500/500 [==============================] - 1s 1ms/step - loss: 0.3483 - accuracy: 0.8560 - val_loss: 0.3563 - val_accuracy: 0.8596\n",
      "Epoch 101/200\n",
      "500/500 [==============================] - 1s 1ms/step - loss: 0.3492 - accuracy: 0.8562 - val_loss: 0.3600 - val_accuracy: 0.8545\n",
      "Epoch 102/200\n",
      "500/500 [==============================] - 1s 1ms/step - loss: 0.3484 - accuracy: 0.8571 - val_loss: 0.3564 - val_accuracy: 0.8474\n",
      "Epoch 103/200\n",
      "500/500 [==============================] - 1s 1ms/step - loss: 0.3483 - accuracy: 0.8559 - val_loss: 0.3520 - val_accuracy: 0.8602\n",
      "Epoch 104/200\n",
      "500/500 [==============================] - 1s 1ms/step - loss: 0.3490 - accuracy: 0.8561 - val_loss: 0.3492 - val_accuracy: 0.8561\n",
      "Epoch 105/200\n",
      "500/500 [==============================] - 1s 1ms/step - loss: 0.3483 - accuracy: 0.8565 - val_loss: 0.3518 - val_accuracy: 0.8545\n",
      "Epoch 106/200\n",
      "500/500 [==============================] - 1s 1ms/step - loss: 0.3482 - accuracy: 0.8562 - val_loss: 0.3541 - val_accuracy: 0.8515\n",
      "Epoch 107/200\n",
      "500/500 [==============================] - 1s 1ms/step - loss: 0.3483 - accuracy: 0.8558 - val_loss: 0.3520 - val_accuracy: 0.8513\n",
      "Epoch 108/200\n",
      "500/500 [==============================] - 1s 1ms/step - loss: 0.3482 - accuracy: 0.8550 - val_loss: 0.3529 - val_accuracy: 0.8487\n",
      "Epoch 109/200\n",
      "500/500 [==============================] - 1s 1ms/step - loss: 0.3483 - accuracy: 0.8568 - val_loss: 0.3492 - val_accuracy: 0.8550\n",
      "Epoch 110/200\n",
      "500/500 [==============================] - 1s 1ms/step - loss: 0.3489 - accuracy: 0.8549 - val_loss: 0.3509 - val_accuracy: 0.8585\n",
      "Epoch 111/200\n",
      "500/500 [==============================] - 1s 1ms/step - loss: 0.3484 - accuracy: 0.8552 - val_loss: 0.3548 - val_accuracy: 0.8597\n",
      "Epoch 112/200\n",
      "500/500 [==============================] - 1s 1ms/step - loss: 0.3485 - accuracy: 0.8578 - val_loss: 0.3612 - val_accuracy: 0.8426\n",
      "Epoch 113/200\n",
      "500/500 [==============================] - 1s 1ms/step - loss: 0.3487 - accuracy: 0.8553 - val_loss: 0.3488 - val_accuracy: 0.8568\n",
      "Epoch 114/200\n",
      "500/500 [==============================] - 1s 1ms/step - loss: 0.3477 - accuracy: 0.8560 - val_loss: 0.3505 - val_accuracy: 0.8545\n"
     ]
    },
    {
     "name": "stdout",
     "output_type": "stream",
     "text": [
      "Epoch 115/200\n",
      "500/500 [==============================] - 1s 1ms/step - loss: 0.3474 - accuracy: 0.8569 - val_loss: 0.3516 - val_accuracy: 0.8518\n",
      "Epoch 116/200\n",
      "500/500 [==============================] - 1s 1ms/step - loss: 0.3483 - accuracy: 0.8575 - val_loss: 0.3538 - val_accuracy: 0.8601\n",
      "Epoch 117/200\n",
      "500/500 [==============================] - 1s 1ms/step - loss: 0.3473 - accuracy: 0.8563 - val_loss: 0.3487 - val_accuracy: 0.8567\n",
      "Epoch 118/200\n",
      "500/500 [==============================] - 1s 1ms/step - loss: 0.3478 - accuracy: 0.8564 - val_loss: 0.3529 - val_accuracy: 0.8575\n",
      "Epoch 119/200\n",
      "500/500 [==============================] - 1s 1ms/step - loss: 0.3482 - accuracy: 0.8557 - val_loss: 0.3487 - val_accuracy: 0.8557\n",
      "Epoch 120/200\n",
      "500/500 [==============================] - 1s 1ms/step - loss: 0.3483 - accuracy: 0.8558 - val_loss: 0.3555 - val_accuracy: 0.8500\n",
      "Epoch 121/200\n",
      "500/500 [==============================] - 1s 2ms/step - loss: 0.3485 - accuracy: 0.8560 - val_loss: 0.3538 - val_accuracy: 0.8503\n",
      "Epoch 122/200\n",
      "500/500 [==============================] - 1s 1ms/step - loss: 0.3482 - accuracy: 0.8566 - val_loss: 0.3519 - val_accuracy: 0.8505\n",
      "Epoch 123/200\n",
      "500/500 [==============================] - 1s 2ms/step - loss: 0.3488 - accuracy: 0.8564 - val_loss: 0.3548 - val_accuracy: 0.8499\n",
      "Epoch 124/200\n",
      "500/500 [==============================] - 1s 2ms/step - loss: 0.3478 - accuracy: 0.8564 - val_loss: 0.3534 - val_accuracy: 0.8488\n",
      "Epoch 125/200\n",
      "500/500 [==============================] - 1s 1ms/step - loss: 0.3476 - accuracy: 0.8557 - val_loss: 0.3509 - val_accuracy: 0.8501\n",
      "Epoch 126/200\n",
      "500/500 [==============================] - 1s 2ms/step - loss: 0.3480 - accuracy: 0.8571 - val_loss: 0.3579 - val_accuracy: 0.8406\n",
      "Epoch 127/200\n",
      "500/500 [==============================] - 1s 2ms/step - loss: 0.3479 - accuracy: 0.8567 - val_loss: 0.3605 - val_accuracy: 0.8540\n",
      "Epoch 128/200\n",
      "500/500 [==============================] - 1s 1ms/step - loss: 0.3478 - accuracy: 0.8578 - val_loss: 0.3487 - val_accuracy: 0.8574\n",
      "Epoch 129/200\n",
      "500/500 [==============================] - 1s 2ms/step - loss: 0.3475 - accuracy: 0.8563 - val_loss: 0.3484 - val_accuracy: 0.8552\n",
      "Epoch 130/200\n",
      "500/500 [==============================] - 1s 1ms/step - loss: 0.3480 - accuracy: 0.8577 - val_loss: 0.3509 - val_accuracy: 0.8543\n",
      "Epoch 131/200\n",
      "500/500 [==============================] - 1s 1ms/step - loss: 0.3474 - accuracy: 0.8562 - val_loss: 0.3516 - val_accuracy: 0.8505\n",
      "Epoch 132/200\n",
      "500/500 [==============================] - 1s 1ms/step - loss: 0.3483 - accuracy: 0.8559 - val_loss: 0.3514 - val_accuracy: 0.8569\n",
      "Epoch 133/200\n",
      "500/500 [==============================] - 1s 2ms/step - loss: 0.3479 - accuracy: 0.8561 - val_loss: 0.3492 - val_accuracy: 0.8549\n",
      "Epoch 134/200\n",
      "500/500 [==============================] - 1s 1ms/step - loss: 0.3478 - accuracy: 0.8565 - val_loss: 0.3531 - val_accuracy: 0.8517\n",
      "Epoch 135/200\n",
      "500/500 [==============================] - 1s 1ms/step - loss: 0.3481 - accuracy: 0.8566 - val_loss: 0.3491 - val_accuracy: 0.8541\n",
      "Epoch 136/200\n",
      "500/500 [==============================] - 1s 1ms/step - loss: 0.3478 - accuracy: 0.8563 - val_loss: 0.3497 - val_accuracy: 0.8558\n",
      "Epoch 137/200\n",
      "500/500 [==============================] - 1s 1ms/step - loss: 0.3473 - accuracy: 0.8572 - val_loss: 0.3488 - val_accuracy: 0.8546\n",
      "Epoch 138/200\n",
      "500/500 [==============================] - 1s 1ms/step - loss: 0.3492 - accuracy: 0.8552 - val_loss: 0.3511 - val_accuracy: 0.8562\n",
      "Epoch 139/200\n",
      "500/500 [==============================] - 1s 2ms/step - loss: 0.3475 - accuracy: 0.8566 - val_loss: 0.3535 - val_accuracy: 0.8487\n",
      "Epoch 140/200\n",
      "500/500 [==============================] - 1s 1ms/step - loss: 0.3482 - accuracy: 0.8569 - val_loss: 0.3506 - val_accuracy: 0.8551\n",
      "Epoch 141/200\n",
      "500/500 [==============================] - 1s 1ms/step - loss: 0.3472 - accuracy: 0.8564 - val_loss: 0.3585 - val_accuracy: 0.8505\n",
      "Epoch 142/200\n",
      "500/500 [==============================] - 1s 1ms/step - loss: 0.3470 - accuracy: 0.8569 - val_loss: 0.3482 - val_accuracy: 0.8560\n",
      "Epoch 143/200\n",
      "500/500 [==============================] - 1s 1ms/step - loss: 0.3481 - accuracy: 0.8563 - val_loss: 0.3499 - val_accuracy: 0.8519\n",
      "Epoch 144/200\n",
      "500/500 [==============================] - 1s 1ms/step - loss: 0.3474 - accuracy: 0.8561 - val_loss: 0.3495 - val_accuracy: 0.8581\n",
      "Epoch 145/200\n",
      "500/500 [==============================] - 1s 2ms/step - loss: 0.3471 - accuracy: 0.8569 - val_loss: 0.3517 - val_accuracy: 0.8486\n",
      "Epoch 146/200\n",
      "500/500 [==============================] - 1s 1ms/step - loss: 0.3469 - accuracy: 0.8566 - val_loss: 0.3479 - val_accuracy: 0.8572\n",
      "Epoch 147/200\n",
      "500/500 [==============================] - 1s 1ms/step - loss: 0.3475 - accuracy: 0.8563 - val_loss: 0.3484 - val_accuracy: 0.8552\n",
      "Epoch 148/200\n",
      "500/500 [==============================] - 1s 1ms/step - loss: 0.3473 - accuracy: 0.8564 - val_loss: 0.3508 - val_accuracy: 0.8571\n",
      "Epoch 149/200\n",
      "500/500 [==============================] - 1s 1ms/step - loss: 0.3468 - accuracy: 0.8566 - val_loss: 0.3482 - val_accuracy: 0.8554\n",
      "Epoch 150/200\n",
      "500/500 [==============================] - 1s 1ms/step - loss: 0.3466 - accuracy: 0.8575 - val_loss: 0.3495 - val_accuracy: 0.8576\n",
      "Epoch 151/200\n",
      "500/500 [==============================] - 1s 1ms/step - loss: 0.3473 - accuracy: 0.8567 - val_loss: 0.3523 - val_accuracy: 0.8611\n",
      "Epoch 152/200\n",
      "500/500 [==============================] - 1s 1ms/step - loss: 0.3471 - accuracy: 0.8560 - val_loss: 0.3479 - val_accuracy: 0.8558\n",
      "Epoch 153/200\n",
      "500/500 [==============================] - 1s 1ms/step - loss: 0.3471 - accuracy: 0.8565 - val_loss: 0.3521 - val_accuracy: 0.8543\n",
      "Epoch 154/200\n",
      "500/500 [==============================] - 1s 1ms/step - loss: 0.3482 - accuracy: 0.8568 - val_loss: 0.3496 - val_accuracy: 0.8574\n",
      "Epoch 155/200\n",
      "500/500 [==============================] - 1s 1ms/step - loss: 0.3474 - accuracy: 0.8569 - val_loss: 0.3491 - val_accuracy: 0.8587\n",
      "Epoch 156/200\n",
      "500/500 [==============================] - 1s 1ms/step - loss: 0.3482 - accuracy: 0.8567 - val_loss: 0.3566 - val_accuracy: 0.8470\n",
      "Epoch 157/200\n",
      "500/500 [==============================] - 1s 1ms/step - loss: 0.3471 - accuracy: 0.8561 - val_loss: 0.3489 - val_accuracy: 0.8591\n",
      "Epoch 158/200\n",
      "500/500 [==============================] - 1s 1ms/step - loss: 0.3483 - accuracy: 0.8556 - val_loss: 0.3491 - val_accuracy: 0.8589\n",
      "Epoch 159/200\n",
      "500/500 [==============================] - 1s 1ms/step - loss: 0.3487 - accuracy: 0.8561 - val_loss: 0.3529 - val_accuracy: 0.8514\n",
      "Epoch 160/200\n",
      "500/500 [==============================] - 1s 1ms/step - loss: 0.3472 - accuracy: 0.8560 - val_loss: 0.3491 - val_accuracy: 0.8562\n",
      "Epoch 161/200\n",
      "500/500 [==============================] - 1s 1ms/step - loss: 0.3471 - accuracy: 0.8565 - val_loss: 0.3526 - val_accuracy: 0.8474\n",
      "Epoch 162/200\n",
      "500/500 [==============================] - 1s 1ms/step - loss: 0.3466 - accuracy: 0.8565 - val_loss: 0.3504 - val_accuracy: 0.8544\n",
      "Epoch 163/200\n",
      "500/500 [==============================] - 1s 1ms/step - loss: 0.3465 - accuracy: 0.8568 - val_loss: 0.3495 - val_accuracy: 0.8593\n",
      "Epoch 164/200\n",
      "500/500 [==============================] - 1s 1ms/step - loss: 0.3474 - accuracy: 0.8561 - val_loss: 0.3499 - val_accuracy: 0.8526\n",
      "Epoch 165/200\n",
      "500/500 [==============================] - 1s 1ms/step - loss: 0.3469 - accuracy: 0.8570 - val_loss: 0.3626 - val_accuracy: 0.8575\n",
      "Epoch 166/200\n",
      "500/500 [==============================] - 1s 1ms/step - loss: 0.3468 - accuracy: 0.8577 - val_loss: 0.3484 - val_accuracy: 0.8578\n",
      "Epoch 167/200\n",
      "500/500 [==============================] - 1s 1ms/step - loss: 0.3475 - accuracy: 0.8566 - val_loss: 0.3480 - val_accuracy: 0.8535\n",
      "Epoch 168/200\n",
      "500/500 [==============================] - 1s 1ms/step - loss: 0.3469 - accuracy: 0.8566 - val_loss: 0.3490 - val_accuracy: 0.8603\n",
      "Epoch 169/200\n",
      "500/500 [==============================] - 1s 2ms/step - loss: 0.3474 - accuracy: 0.8569 - val_loss: 0.3510 - val_accuracy: 0.8521\n",
      "Epoch 170/200\n",
      "500/500 [==============================] - 1s 1ms/step - loss: 0.3472 - accuracy: 0.8562 - val_loss: 0.3494 - val_accuracy: 0.8536\n",
      "Epoch 171/200\n",
      "500/500 [==============================] - 1s 1ms/step - loss: 0.3469 - accuracy: 0.8573 - val_loss: 0.3474 - val_accuracy: 0.8583\n",
      "Epoch 172/200\n",
      "500/500 [==============================] - 1s 1ms/step - loss: 0.3472 - accuracy: 0.8569 - val_loss: 0.3479 - val_accuracy: 0.8581\n",
      "Epoch 173/200\n",
      "500/500 [==============================] - 1s 1ms/step - loss: 0.3475 - accuracy: 0.8573 - val_loss: 0.3474 - val_accuracy: 0.8558\n",
      "Epoch 174/200\n",
      "500/500 [==============================] - 1s 1ms/step - loss: 0.3475 - accuracy: 0.8559 - val_loss: 0.3502 - val_accuracy: 0.8501\n",
      "Epoch 175/200\n",
      "500/500 [==============================] - 1s 1ms/step - loss: 0.3471 - accuracy: 0.8565 - val_loss: 0.3486 - val_accuracy: 0.8569\n",
      "Epoch 176/200\n",
      "500/500 [==============================] - 1s 1ms/step - loss: 0.3469 - accuracy: 0.8563 - val_loss: 0.3536 - val_accuracy: 0.8490\n",
      "Epoch 177/200\n",
      "500/500 [==============================] - 1s 1ms/step - loss: 0.3471 - accuracy: 0.8564 - val_loss: 0.3497 - val_accuracy: 0.8516\n",
      "Epoch 178/200\n",
      "500/500 [==============================] - 1s 1ms/step - loss: 0.3463 - accuracy: 0.8571 - val_loss: 0.3482 - val_accuracy: 0.8558\n",
      "Epoch 179/200\n",
      "500/500 [==============================] - 1s 1ms/step - loss: 0.3474 - accuracy: 0.8572 - val_loss: 0.3500 - val_accuracy: 0.8510\n",
      "Epoch 180/200\n",
      "500/500 [==============================] - 1s 1ms/step - loss: 0.3466 - accuracy: 0.8563 - val_loss: 0.3474 - val_accuracy: 0.8557\n",
      "Epoch 181/200\n",
      "500/500 [==============================] - 1s 1ms/step - loss: 0.3468 - accuracy: 0.8567 - val_loss: 0.3477 - val_accuracy: 0.8579\n",
      "Epoch 182/200\n",
      "500/500 [==============================] - 1s 1ms/step - loss: 0.3472 - accuracy: 0.8552 - val_loss: 0.3507 - val_accuracy: 0.8500\n",
      "Epoch 183/200\n",
      "500/500 [==============================] - 1s 1ms/step - loss: 0.3470 - accuracy: 0.8560 - val_loss: 0.3524 - val_accuracy: 0.8516\n",
      "Epoch 184/200\n",
      "500/500 [==============================] - 1s 1ms/step - loss: 0.3461 - accuracy: 0.8581 - val_loss: 0.3491 - val_accuracy: 0.8531\n",
      "Epoch 185/200\n",
      "500/500 [==============================] - 1s 1ms/step - loss: 0.3467 - accuracy: 0.8560 - val_loss: 0.3485 - val_accuracy: 0.8557\n",
      "Epoch 186/200\n",
      "500/500 [==============================] - 1s 2ms/step - loss: 0.3467 - accuracy: 0.8566 - val_loss: 0.3480 - val_accuracy: 0.8543\n",
      "Epoch 187/200\n",
      "500/500 [==============================] - 1s 1ms/step - loss: 0.3470 - accuracy: 0.8563 - val_loss: 0.3537 - val_accuracy: 0.8569\n",
      "Epoch 188/200\n",
      "500/500 [==============================] - 1s 1ms/step - loss: 0.3464 - accuracy: 0.8567 - val_loss: 0.3487 - val_accuracy: 0.8572\n",
      "Epoch 189/200\n",
      "500/500 [==============================] - 1s 1ms/step - loss: 0.3465 - accuracy: 0.8563 - val_loss: 0.3470 - val_accuracy: 0.8553\n",
      "Epoch 190/200\n",
      "500/500 [==============================] - 1s 1ms/step - loss: 0.3476 - accuracy: 0.8561 - val_loss: 0.3502 - val_accuracy: 0.8613\n",
      "Epoch 191/200\n",
      "500/500 [==============================] - 1s 1ms/step - loss: 0.3469 - accuracy: 0.8569 - val_loss: 0.3467 - val_accuracy: 0.8569\n",
      "Epoch 192/200\n",
      "500/500 [==============================] - 1s 1ms/step - loss: 0.3467 - accuracy: 0.8567 - val_loss: 0.3515 - val_accuracy: 0.8484\n",
      "Epoch 193/200\n",
      "500/500 [==============================] - 1s 1ms/step - loss: 0.3465 - accuracy: 0.8564 - val_loss: 0.3486 - val_accuracy: 0.8569\n",
      "Epoch 194/200\n",
      "500/500 [==============================] - 1s 2ms/step - loss: 0.3468 - accuracy: 0.8569 - val_loss: 0.3480 - val_accuracy: 0.8552\n",
      "Epoch 195/200\n",
      "500/500 [==============================] - 1s 1ms/step - loss: 0.3468 - accuracy: 0.8573 - val_loss: 0.3522 - val_accuracy: 0.8517\n",
      "Epoch 196/200\n",
      "500/500 [==============================] - 1s 1ms/step - loss: 0.3468 - accuracy: 0.8568 - val_loss: 0.3489 - val_accuracy: 0.8513\n",
      "Epoch 197/200\n",
      "500/500 [==============================] - 1s 1ms/step - loss: 0.3466 - accuracy: 0.8568 - val_loss: 0.3546 - val_accuracy: 0.8436\n",
      "Epoch 198/200\n",
      "500/500 [==============================] - 1s 1ms/step - loss: 0.3467 - accuracy: 0.8569 - val_loss: 0.3480 - val_accuracy: 0.8564\n",
      "Epoch 199/200\n",
      "500/500 [==============================] - 1s 1ms/step - loss: 0.3467 - accuracy: 0.8566 - val_loss: 0.3477 - val_accuracy: 0.8555\n",
      "Epoch 200/200\n",
      "500/500 [==============================] - 1s 1ms/step - loss: 0.3465 - accuracy: 0.8569 - val_loss: 0.3484 - val_accuracy: 0.8552\n",
      "dict_keys(['loss', 'accuracy', 'val_loss', 'val_accuracy'])\n"
     ]
    }
   ],
   "source": [
    "#Now we train the model\n",
    "history = model.fit(X_train,y_train,epochs=200,batch_size=100,validation_data=(X_test,y_test),verbose=1)\n",
    "print(history.history.keys())"
   ]
  },
  {
   "cell_type": "markdown",
   "metadata": {},
   "source": [
    "## Model Summary and save the model"
   ]
  },
  {
   "cell_type": "code",
   "execution_count": 12,
   "metadata": {},
   "outputs": [
    {
     "name": "stdout",
     "output_type": "stream",
     "text": [
      "The NN architecture is\n",
      "Model: \"sequential\"\n",
      "_________________________________________________________________\n",
      "Layer (type)                 Output Shape              Param #   \n",
      "=================================================================\n",
      "dense (Dense)                (None, 8)                 32        \n",
      "_________________________________________________________________\n",
      "dense_1 (Dense)              (None, 4)                 36        \n",
      "_________________________________________________________________\n",
      "dense_2 (Dense)              (None, 1)                 5         \n",
      "=================================================================\n",
      "Total params: 73\n",
      "Trainable params: 73\n",
      "Non-trainable params: 0\n",
      "_________________________________________________________________\n"
     ]
    }
   ],
   "source": [
    "print('The NN architecture is')\n",
    "modelname = 'my_model_disc.h5'\n",
    "model.summary()\n",
    "model.save(modelname)"
   ]
  },
  {
   "cell_type": "code",
   "execution_count": null,
   "metadata": {},
   "outputs": [],
   "source": []
  },
  {
   "cell_type": "markdown",
   "metadata": {},
   "source": [
    "### Visualize the training metric"
   ]
  },
  {
   "cell_type": "code",
   "execution_count": 13,
   "metadata": {},
   "outputs": [
    {
     "data": {
      "image/png": "[encoded data removed]",
      "text/plain": [
       "<Figure size 504x360 with 1 Axes>"
      ]
     },
     "metadata": {
      "needs_background": "light"
     },
     "output_type": "display_data"
    },
    {
     "data": {
      "image/png": "[encoded data removed]",
      "text/plain": [
       "<Figure size 504x360 with 1 Axes>"
      ]
     },
     "metadata": {
      "needs_background": "light"
     },
     "output_type": "display_data"
    }
   ],
   "source": [
    "# Let us start by making plots of the loss and accuracy as a function of epochs\n",
    "# We shall do this for the usual loss and accuracy (which is evaluated on the training dataset)\n",
    "# and also val_loss and val_accuracy which are evaluated for the testing dataset\n",
    "\n",
    "\n",
    "plt.figure(figsize=(7,5))\n",
    "plt.plot(history.history['loss'], label='Train Loss')\n",
    "plt.plot(history.history['val_loss'], label='Validation Loss')\n",
    "plt.xlabel('Epoch')\n",
    "plt.ylabel('Loss')\n",
    "plt.ylim([0.001, 10])\n",
    "plt.yscale('log')\n",
    "plt.legend(loc='upper right',fontsize=15)\n",
    "plt.grid('-',lw=2,alpha=0.3)\n",
    "#plt.savefig('loss_v_epoch_disc.png')\n",
    "plt.savefig(pp,format='pdf')\n",
    "\n",
    "\n",
    "plt.figure(figsize=(7,5))\n",
    "plt.plot(history.history['accuracy'], label='Train Accuracy')\n",
    "plt.plot(history.history['val_accuracy'], label='Validation Accuracy')\n",
    "plt.xlabel('Epoch')\n",
    "plt.ylabel('Accuracy')\n",
    "plt.ylim([0.0, 1.5])\n",
    "plt.legend(loc='upper right',fontsize=15)\n",
    "plt.grid('-',lw=2,alpha=0.3)\n",
    "#plt.savefig('acc_v_epoch_disc.png')\n",
    "plt.savefig(pp,format='pdf')"
   ]
  },
  {
   "cell_type": "code",
   "execution_count": null,
   "metadata": {},
   "outputs": [],
   "source": []
  },
  {
   "cell_type": "markdown",
   "metadata": {},
   "source": [
    "## Plot the output of the neural network\n",
    "-  It is also called ```Neural Network score or nnscore```\n",
    "-  We plot the score separately for 'signal' and 'background'\n",
    "-  here signal is the target y of 1.0, and background is the target y of 0.0\n",
    "-  We will plot this output separately for testing and training datasets\n",
    "-  Thus there are 4 curves plotted, testing/training for signal/background\n"
   ]
  },
  {
   "cell_type": "code",
   "execution_count": 14,
   "metadata": {},
   "outputs": [],
   "source": [
    "#Setup some new dataframes  t_df is training, v_df is testing (or validation)\n",
    "t_df = pd.DataFrame()\n",
    "v_df = pd.DataFrame()\n",
    "t_df['train_truth'] = y_train.ravel()\n",
    "t_df['train_prob'] = 0\n",
    "v_df['test_truth'] = y_test.ravel()\n",
    "v_df['test_prob'] = 0"
   ]
  },
  {
   "cell_type": "code",
   "execution_count": 15,
   "metadata": {},
   "outputs": [],
   "source": [
    "# Now we evaluate the model on the test and train data by calling the predict function\n",
    "train_pred_proba = model.predict(X_train)\n",
    "val_pred_proba = model.predict(X_test)\n",
    "\n",
    "t_df['train_prob'] = train_pred_proba\n",
    "v_df['test_prob'] = val_pred_proba"
   ]
  },
  {
   "cell_type": "markdown",
   "metadata": {},
   "source": [
    "Okay so now we have the two dataframes ready.\n",
    "- t_df has two columns for training data  (train_truth and train_prob)\n",
    "- v_df has two columns for testing data  (train_truth and train_prob)\n",
    "\n",
    "Now plot the nnscore "
   ]
  },
  {
   "cell_type": "code",
   "execution_count": 16,
   "metadata": {},
   "outputs": [
    {
     "data": {
      "image/png": "[encoded data removed]",
      "text/plain": [
       "<Figure size 504x360 with 1 Axes>"
      ]
     },
     "metadata": {
      "needs_background": "light"
     },
     "output_type": "display_data"
    }
   ],
   "source": [
    "# Now we plot the NN output\n",
    "mybins = np.arange(0,1.05,0.05)\n",
    "\n",
    "\n",
    "plt.figure(figsize=(7,5))\n",
    "plt.hist(v_df[v_df['test_truth']==1]['test_prob'],bins=mybins,histtype='step', label=\"Test Signal\", linewidth=3, color='xkcd:green',density=False,log=False)\n",
    "plt.hist(v_df[v_df['test_truth']==0]['test_prob'],bins=mybins,histtype='step', label=\"Test Background\", linewidth=3, color='xkcd:denim',density=False,log=False)\n",
    "plt.hist(t_df[t_df['train_truth']==1]['train_prob'],bins=mybins,histtype='step',label=\"Train Signal\", linewidth=3, color='xkcd:greenish',density=False,log=False)\n",
    "plt.hist(t_df[t_df['train_truth']==0]['train_prob'],bins=mybins,histtype='step',label=\"Train Background\", linewidth=3, color='xkcd:sky blue',density=False,log=False)\n",
    "plt.legend(loc='upper center',fontsize=15)\n",
    "plt.xlabel('Score',fontsize=15)\n",
    "plt.ylabel('Examples',fontsize=15)\n",
    "plt.title(f'NN Output',fontsize=20)\n",
    "plt.xticks([0.0,0.2,0.4,0.6,0.8,1.0],fontsize=10)\n",
    "plt.yticks(fontsize=10)\n",
    "plt.grid('-',lw=2,alpha=0.3)\n",
    "#plt.savefig('NNscore.png')\n",
    "plt.savefig(pp,format='pdf')"
   ]
  },
  {
   "cell_type": "code",
   "execution_count": null,
   "metadata": {},
   "outputs": [],
   "source": []
  },
  {
   "cell_type": "markdown",
   "metadata": {},
   "source": [
    "## ROC Curve"
   ]
  },
  {
   "cell_type": "code",
   "execution_count": 17,
   "metadata": {},
   "outputs": [],
   "source": [
    "# Now we get the ROC curve, first for testing data\n",
    "fpr, tpr, _ = roc_curve(y_test,val_pred_proba)\n",
    "auc_score = auc(fpr,tpr)\n",
    "# Now the ROC curve for training data\n",
    "fpr1, tpr1, _ = roc_curve(y_train,train_pred_proba)\n",
    "auc_score1 = auc(fpr1,tpr1)\n"
   ]
  },
  {
   "cell_type": "code",
   "execution_count": 18,
   "metadata": {},
   "outputs": [
    {
     "data": {
      "image/png": "[encoded data removed]",
      "text/plain": [
       "<Figure size 504x360 with 1 Axes>"
      ]
     },
     "metadata": {
      "needs_background": "light"
     },
     "output_type": "display_data"
    }
   ],
   "source": [
    "# We plot the ROC curves together each other to assess the performance\n",
    "\n",
    "plt.figure(figsize=(7,5))\n",
    "plt.plot(fpr,tpr,color='xkcd:denim blue', label='Testing ROC (AUC = %0.4f)' % auc_score)\n",
    "plt.plot(fpr1,tpr1,color='xkcd:sky blue', label='Training ROC (AUC = %0.4f)' % auc_score1)\n",
    "plt.legend(loc='lower right',fontsize=15)\n",
    "plt.title(f'ROC Curve',fontsize=20)\n",
    "plt.xlabel('False Positive Rate',fontsize=20)\n",
    "plt.ylabel('True Positive Rate',fontsize=20)\n",
    "plt.xlim(0.,1.)\n",
    "plt.ylim(0.,1.)\n",
    "plt.grid('-',lw=2,alpha=0.3)\n",
    "#plt.savefig('ROC.png')\n",
    "plt.savefig(pp,format='pdf')\n"
   ]
  },
  {
   "cell_type": "code",
   "execution_count": 19,
   "metadata": {},
   "outputs": [],
   "source": [
    "#close the pdffile\n",
    "pp.close()"
   ]
  },
  {
   "cell_type": "code",
   "execution_count": null,
   "metadata": {},
   "outputs": [],
   "source": []
  }
 ],
 "metadata": {
  "kernelspec": {
   "display_name": "Python 3",
   "language": "python",
   "name": "python3"
  },
  "language_info": {
   "codemirror_mode": {
    "name": "ipython",
    "version": 3
   },
   "file_extension": ".py",
   "mimetype": "text/x-python",
   "name": "python",
   "nbconvert_exporter": "python",
   "pygments_lexer": "ipython3",
   "version": "3.6.9"
  }
 },
 "nbformat": 4,
 "nbformat_minor": 4
}
