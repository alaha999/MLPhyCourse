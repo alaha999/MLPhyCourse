{
 "cells": [
  {
   "cell_type": "markdown",
   "metadata": {},
   "source": [
    "# Projectile Motion using Regression Network\n",
    "\n",
    "- Follow the week 2 lecture slides"
   ]
  },
  {
   "cell_type": "code",
   "execution_count": 1,
   "metadata": {},
   "outputs": [],
   "source": [
    "#!/usr/bin/env python\n",
    "# coding: utf-8\n",
    "\n",
    "# First we import all the basic things we need.\n",
    "\n",
    "import numpy as np\n",
    "import pandas as pd\n",
    "import matplotlib.pyplot as plt\n",
    "\n",
    "import tensorflow as tf\n",
    "from tensorflow.keras import Sequential\n",
    "from tensorflow.keras.layers import Dense\n",
    "\n",
    "import os\n",
    "import warnings\n",
    "warnings.filterwarnings('ignore')"
   ]
  },
  {
   "cell_type": "code",
   "execution_count": 2,
   "metadata": {},
   "outputs": [],
   "source": [
    "# Lets set up to put all output plots in one output PDF\n",
    "\n",
    "outputname = 'projectile_regression_week1.pdf'\n",
    "\n",
    "from matplotlib.backends.backend_pdf import PdfPages\n",
    "pp = PdfPages(outputname)"
   ]
  },
  {
   "cell_type": "markdown",
   "metadata": {},
   "source": [
    "## Input File\n",
    "\n",
    "- For this notebook we will use,\n",
    "  - Training file: ```projectile_input_200.txt```\n",
    "  - Testing file: ```projectile_input_test_10.txt``` \n",
    "- input file has tof,height,distance,velocity,angleDegrees\n",
    "\n",
    "- from this, we decide to read in  tof,height,distance,velocity"
   ]
  },
  {
   "cell_type": "code",
   "execution_count": null,
   "metadata": {},
   "outputs": [],
   "source": []
  },
  {
   "cell_type": "markdown",
   "metadata": {},
   "source": [
    "## Read the Input file in a Pandas DataFrame"
   ]
  },
  {
   "cell_type": "code",
   "execution_count": 3,
   "metadata": {},
   "outputs": [],
   "source": [
    "# First we prepare the dataframe in which we get the data\n",
    "col_names = ['tof','height','distance','velocity','angleDegrees']\n",
    "cols = [0,1,2,3]\n",
    "# Now here I purposely dropped the last column (read in only first 4)\n"
   ]
  },
  {
   "cell_type": "code",
   "execution_count": 4,
   "metadata": {},
   "outputs": [],
   "source": [
    "projdf = pd.read_csv('input/projectile_input_200.txt',sep=' ',index_col=None,usecols=cols,names=col_names)"
   ]
  },
  {
   "cell_type": "code",
   "execution_count": 5,
   "metadata": {},
   "outputs": [
    {
     "data": {
      "text/html": [
       "<div>\n",
       "<style scoped>\n",
       "    .dataframe tbody tr th:only-of-type {\n",
       "        vertical-align: middle;\n",
       "    }\n",
       "\n",
       "    .dataframe tbody tr th {\n",
       "        vertical-align: top;\n",
       "    }\n",
       "\n",
       "    .dataframe thead th {\n",
       "        text-align: right;\n",
       "    }\n",
       "</style>\n",
       "<table border=\"1\" class=\"dataframe\">\n",
       "  <thead>\n",
       "    <tr style=\"text-align: right;\">\n",
       "      <th></th>\n",
       "      <th>tof</th>\n",
       "      <th>height</th>\n",
       "      <th>distance</th>\n",
       "      <th>velocity</th>\n",
       "    </tr>\n",
       "  </thead>\n",
       "  <tbody>\n",
       "    <tr>\n",
       "      <th>0</th>\n",
       "      <td>1.90610</td>\n",
       "      <td>8.90143</td>\n",
       "      <td>16.1042</td>\n",
       "      <td>12.5943</td>\n",
       "    </tr>\n",
       "    <tr>\n",
       "      <th>1</th>\n",
       "      <td>1.50155</td>\n",
       "      <td>5.52391</td>\n",
       "      <td>13.9021</td>\n",
       "      <td>11.8260</td>\n",
       "    </tr>\n",
       "    <tr>\n",
       "      <th>2</th>\n",
       "      <td>1.67037</td>\n",
       "      <td>6.83587</td>\n",
       "      <td>14.9818</td>\n",
       "      <td>12.1423</td>\n",
       "    </tr>\n",
       "    <tr>\n",
       "      <th>3</th>\n",
       "      <td>1.85260</td>\n",
       "      <td>8.40870</td>\n",
       "      <td>27.0152</td>\n",
       "      <td>17.1770</td>\n",
       "    </tr>\n",
       "    <tr>\n",
       "      <th>4</th>\n",
       "      <td>1.62643</td>\n",
       "      <td>6.48093</td>\n",
       "      <td>11.9861</td>\n",
       "      <td>10.8547</td>\n",
       "    </tr>\n",
       "  </tbody>\n",
       "</table>\n",
       "</div>"
      ],
      "text/plain": [
       "       tof   height  distance  velocity\n",
       "0  1.90610  8.90143   16.1042   12.5943\n",
       "1  1.50155  5.52391   13.9021   11.8260\n",
       "2  1.67037  6.83587   14.9818   12.1423\n",
       "3  1.85260  8.40870   27.0152   17.1770\n",
       "4  1.62643  6.48093   11.9861   10.8547"
      ]
     },
     "execution_count": 5,
     "metadata": {},
     "output_type": "execute_result"
    }
   ],
   "source": [
    "projdf.head()"
   ]
  },
  {
   "cell_type": "markdown",
   "metadata": {},
   "source": [
    "## Visualize the Inputs"
   ]
  },
  {
   "cell_type": "code",
   "execution_count": 6,
   "metadata": {},
   "outputs": [
    {
     "data": {
      "image/png": "[encoded data removed]",
      "text/plain": [
       "<Figure size 720x720 with 4 Axes>"
      ]
     },
     "metadata": {
      "needs_background": "light"
     },
     "output_type": "display_data"
    }
   ],
   "source": [
    "#Let us visualize the input by plotting some quantities\n",
    "fig, ax = plt.subplots(2,2,figsize=(10,10))\n",
    "ax = ax.flatten()\n",
    "\n",
    "##Set the legend size\n",
    "plt.rcParams['legend.fontsize']=15\n",
    "\n",
    "ax[0].hist(projdf['tof'], bins=20, lw=2, alpha=0.5,label='ToF')\n",
    "ax[0].set_title('Time of Flight')\n",
    "ax[0].legend(loc='upper right')\n",
    "\n",
    "ax[1].hist(projdf['height'], bins=20, lw=2, alpha=0.5,label='Max Height')\n",
    "ax[1].set_title('Maximum Height')\n",
    "ax[1].legend(loc='upper right')\n",
    "\n",
    "ax[2].hist(projdf['distance'], bins=20, lw=2, alpha=0.5,label='Max Distance')\n",
    "ax[2].set_title('Maximum Distance')\n",
    "ax[2].legend(loc='upper right')\n",
    "\n",
    "ax[3].hist(projdf['velocity'], bins=20, lw=3, alpha=0.5,label='Velocity')\n",
    "ax[3].set_title('Initial Velocity')\n",
    "ax[3].legend(loc='upper right')\n",
    "plt.savefig(pp,format='pdf')"
   ]
  },
  {
   "cell_type": "code",
   "execution_count": null,
   "metadata": {},
   "outputs": [],
   "source": []
  },
  {
   "cell_type": "markdown",
   "metadata": {},
   "source": [
    "## Prepare the data for training"
   ]
  },
  {
   "cell_type": "code",
   "execution_count": 7,
   "metadata": {},
   "outputs": [
    {
     "name": "stdout",
     "output_type": "stream",
     "text": [
      "Shapes of data, X, y are (200, 4), (200, 3) , (200,)\n",
      "The number of input variables is 3\n"
     ]
    }
   ],
   "source": [
    "# Split the label column as y, and the input variables as X\n",
    "X, y = projdf.values[:,:-1], projdf.values[:,-1]\n",
    "\n",
    "print(f'Shapes of data, X, y are {projdf.shape}, {X.shape} , {y.shape}')\n",
    "\n",
    "\n",
    "n_features = X.shape[1]\n",
    "print(f'The number of input variables is {n_features}')\n"
   ]
  },
  {
   "cell_type": "code",
   "execution_count": null,
   "metadata": {},
   "outputs": [],
   "source": []
  },
  {
   "cell_type": "markdown",
   "metadata": {},
   "source": [
    "## Build a neural network model\n",
    "\n",
    "-  Now we declare a neural network with <mark>2 hidden layers</mark>\n",
    "- first hidden layer has **4 neurons**, and takes **n_features** number of inputs \n",
    "- second hidden layer has **2 neurons**\n",
    "-  output layer has **1 neuron**\n",
    "-  We have initialized weights using option **'he_normal'** and\n",
    "-  we are using the **ReLU activation function** for all neurons.\n"
   ]
  },
  {
   "cell_type": "code",
   "execution_count": 8,
   "metadata": {},
   "outputs": [],
   "source": [
    "model = Sequential()\n",
    "model.add(Dense(4, activation='relu', kernel_initializer='he_normal', input_dim=n_features))\n",
    "model.add(Dense(2, activation='relu', kernel_initializer='he_normal'))\n",
    "model.add(Dense(1, activation='relu'))\n"
   ]
  },
  {
   "cell_type": "markdown",
   "metadata": {},
   "source": [
    "### Compile the model"
   ]
  },
  {
   "cell_type": "code",
   "execution_count": 9,
   "metadata": {},
   "outputs": [],
   "source": [
    "#compile the model, by choosing a learning rate and a loss function\n",
    "model.compile(optimizer='adam', loss='MeanSquaredError')\n"
   ]
  },
  {
   "cell_type": "markdown",
   "metadata": {},
   "source": [
    "### Train the model"
   ]
  },
  {
   "cell_type": "code",
   "execution_count": 10,
   "metadata": {},
   "outputs": [
    {
     "name": "stdout",
     "output_type": "stream",
     "text": [
      "Epoch 1/10\n",
      "20/20 [==============================] - 0s 2ms/step - loss: 157.9231\n",
      "Epoch 2/10\n",
      "20/20 [==============================] - 0s 2ms/step - loss: 116.7802\n",
      "Epoch 3/10\n",
      "20/20 [==============================] - 0s 2ms/step - loss: 81.8302\n",
      "Epoch 4/10\n",
      "20/20 [==============================] - 0s 2ms/step - loss: 55.1046\n",
      "Epoch 5/10\n",
      "20/20 [==============================] - 0s 2ms/step - loss: 35.4499\n",
      "Epoch 6/10\n",
      "20/20 [==============================] - 0s 2ms/step - loss: 22.0640\n",
      "Epoch 7/10\n",
      "20/20 [==============================] - 0s 2ms/step - loss: 14.0355\n",
      "Epoch 8/10\n",
      "20/20 [==============================] - 0s 1ms/step - loss: 9.9067\n",
      "Epoch 9/10\n",
      "20/20 [==============================] - 0s 1ms/step - loss: 8.0537\n",
      "Epoch 10/10\n",
      "20/20 [==============================] - 0s 2ms/step - loss: 7.3811\n",
      "dict_keys(['loss'])\n"
     ]
    }
   ],
   "source": [
    "# Now we train the model\n",
    "history = model.fit(X,y,epochs=10,batch_size=10,verbose=1)\n",
    "print(history.history.keys())"
   ]
  },
  {
   "cell_type": "markdown",
   "metadata": {},
   "source": [
    "### Model summary and save the model"
   ]
  },
  {
   "cell_type": "code",
   "execution_count": 11,
   "metadata": {},
   "outputs": [
    {
     "name": "stdout",
     "output_type": "stream",
     "text": [
      "The NN architecture is\n",
      "Model: \"sequential\"\n",
      "_________________________________________________________________\n",
      "Layer (type)                 Output Shape              Param #   \n",
      "=================================================================\n",
      "dense (Dense)                (None, 4)                 16        \n",
      "_________________________________________________________________\n",
      "dense_1 (Dense)              (None, 2)                 10        \n",
      "_________________________________________________________________\n",
      "dense_2 (Dense)              (None, 1)                 3         \n",
      "=================================================================\n",
      "Total params: 29\n",
      "Trainable params: 29\n",
      "Non-trainable params: 0\n",
      "_________________________________________________________________\n"
     ]
    }
   ],
   "source": [
    "#Now we print the model summary to screen and save the trained model to a file\n",
    "modelname = 'my_model.h5'\n",
    "\n",
    "print('The NN architecture is')\n",
    "model.summary()\n",
    "model.save(modelname)\n"
   ]
  },
  {
   "cell_type": "markdown",
   "metadata": {},
   "source": [
    "### Visualize the Training Process"
   ]
  },
  {
   "cell_type": "code",
   "execution_count": 12,
   "metadata": {},
   "outputs": [
    {
     "data": {
      "image/png": "[encoded data removed]",
      "text/plain": [
       "<Figure size 504x360 with 1 Axes>"
      ]
     },
     "metadata": {
      "needs_background": "light"
     },
     "output_type": "display_data"
    }
   ],
   "source": [
    "fig,ax = plt.subplots(figsize=(7,5))\n",
    "\n",
    "ax.plot(history.history['loss'], label='Train Loss')\n",
    "ax.set_xlabel('Epoch',fontsize=15)\n",
    "ax.set_ylabel('Loss',fontsize=15)\n",
    "#plt.ylim([0.001, 10])\n",
    "ax.set_yscale('log')\n",
    "ax.legend(loc='upper right',fontsize=16)\n",
    "ax.grid('--',alpha=0.3, lw=2)\n",
    "\n",
    "plt.savefig(pp,format='pdf')"
   ]
  },
  {
   "cell_type": "code",
   "execution_count": null,
   "metadata": {},
   "outputs": [],
   "source": []
  },
  {
   "cell_type": "code",
   "execution_count": null,
   "metadata": {},
   "outputs": [],
   "source": []
  },
  {
   "cell_type": "markdown",
   "metadata": {},
   "source": [
    "# Evaluating the model\n",
    "\n",
    "We have trained a model which can predict **velocity** based on three inputs,\n",
    "- time of flight\n",
    "- maximum height\n",
    "- maximum distance\n",
    "\n",
    "Now let's test how well it performs! "
   ]
  },
  {
   "cell_type": "code",
   "execution_count": 13,
   "metadata": {},
   "outputs": [],
   "source": [
    "# Now we evaluate the model using our test file.\n",
    "# Let us begin by reading in the test file, and separating out the first three variables and the output\n",
    "\n",
    "projdf_test = pd.read_csv('projectile_input_test_10.txt',sep=' ',index_col=None,usecols=cols,names=col_names)\n"
   ]
  },
  {
   "cell_type": "markdown",
   "metadata": {},
   "source": [
    "### Prepare the data with a same structure as of training"
   ]
  },
  {
   "cell_type": "code",
   "execution_count": 14,
   "metadata": {},
   "outputs": [],
   "source": [
    "# Then separate the variables and the result columns\n",
    "X_test, y_true = projdf_test.values[:,:-1], projdf_test.values[:,-1]"
   ]
  },
  {
   "cell_type": "markdown",
   "metadata": {},
   "source": [
    "### Predict"
   ]
  },
  {
   "cell_type": "code",
   "execution_count": 15,
   "metadata": {},
   "outputs": [],
   "source": [
    "# Make the prediction\n",
    "pred_y = model.predict(X_test)"
   ]
  },
  {
   "cell_type": "code",
   "execution_count": null,
   "metadata": {},
   "outputs": [],
   "source": []
  },
  {
   "cell_type": "markdown",
   "metadata": {},
   "source": [
    "### Figure of Merit and Conclusion"
   ]
  },
  {
   "cell_type": "code",
   "execution_count": 16,
   "metadata": {},
   "outputs": [],
   "source": [
    "#At this point,  y_true has the true answers  and pred_y  has the predicted answers\n",
    "\n",
    "\n",
    "# Arrange them back in a nice dataframe\n",
    "\n",
    "results = pd.DataFrame()\n",
    "results['y_true'] = y_true\n",
    "results['y_pred'] = pred_y"
   ]
  },
  {
   "cell_type": "code",
   "execution_count": 17,
   "metadata": {},
   "outputs": [
    {
     "name": "stdout",
     "output_type": "stream",
     "text": [
      "    y_true     y_pred  diffsquare\n",
      "0  19.2770  20.612761    1.784256\n",
      "1  10.2068   5.932223   18.272010\n",
      "2  13.4036  10.573713    8.008259\n",
      "3  16.9928  17.985783    0.986014\n",
      "4  18.9150  19.782173    0.751989\n",
      "5  16.3164  15.535463    0.609862\n",
      "6  17.0892  17.622656    0.284575\n",
      "7  17.7760  18.549318    0.598021\n",
      "8  17.8712  18.283707    0.170162\n",
      "9  12.1943   9.337968    8.158633\n"
     ]
    }
   ],
   "source": [
    "# Let us calculate a quick figure of merit for our sake\n",
    "results['diffsquare'] = results.apply(lambda row: np.square(row.y_true-row.y_pred) , axis=1 )\n",
    "\n",
    "#Now let us print the dataframe\n",
    "print(results)"
   ]
  },
  {
   "cell_type": "code",
   "execution_count": 18,
   "metadata": {},
   "outputs": [
    {
     "data": {
      "image/png": "[encoded data removed]",
      "text/plain": [
       "<Figure size 504x360 with 1 Axes>"
      ]
     },
     "metadata": {
      "needs_background": "light"
     },
     "output_type": "display_data"
    }
   ],
   "source": [
    "fig,ax = plt.subplots(figsize=(7,5))\n",
    "\n",
    "ax.hist(results.diffsquare, bins=50,lw=3,log=False,alpha=0.5)\n",
    "ax.set_xlabel('diffsquare',fontsize=16)\n",
    "ax.set_ylabel('Count',fontsize=16)\n",
    "ax.set_title('Performance plot',fontsize=16)\n",
    "plt.savefig(pp,format='pdf')\n",
    "plt.show()"
   ]
  },
  {
   "cell_type": "code",
   "execution_count": 19,
   "metadata": {},
   "outputs": [
    {
     "name": "stdout",
     "output_type": "stream",
     "text": [
      "The total difference between expectation and prediction is 3.9624\n"
     ]
    }
   ],
   "source": [
    "TotalDiff = results['diffsquare'].sum()/results.shape[0]\n",
    "print(f\"The total difference between expectation and prediction is {TotalDiff:.4f}\")\n"
   ]
  },
  {
   "cell_type": "code",
   "execution_count": 20,
   "metadata": {},
   "outputs": [],
   "source": [
    "# Now we close the output file\n",
    "pp.close()"
   ]
  },
  {
   "cell_type": "code",
   "execution_count": null,
   "metadata": {},
   "outputs": [],
   "source": []
  }
 ],
 "metadata": {
  "kernelspec": {
   "display_name": "Python 3",
   "language": "python",
   "name": "python3"
  },
  "language_info": {
   "codemirror_mode": {
    "name": "ipython",
    "version": 3
   },
   "file_extension": ".py",
   "mimetype": "text/x-python",
   "name": "python",
   "nbconvert_exporter": "python",
   "pygments_lexer": "ipython3",
   "version": "3.6.9"
  }
 },
 "nbformat": 4,
 "nbformat_minor": 4
}
